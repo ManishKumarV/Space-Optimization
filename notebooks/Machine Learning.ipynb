{
 "cells": [
  {
   "cell_type": "code",
   "execution_count": 1,
   "metadata": {},
   "outputs": [],
   "source": [
    "import os\n",
    "import glob\n",
    "\n",
    "import pickle\n",
    "import requests\n",
    "\n",
    "import re\n",
    "import math\n",
    "import random\n",
    "import numpy as np\n",
    "import pandas as pd\n",
    "import seaborn as sns\n",
    "import matplotlib.pyplot as plt\n",
    "import matplotlib.image as mpimg\n",
    "\n",
    "import folium\n",
    "from IPython.display import Image\n",
    "from geopy.geocoders import Nominatim\n",
    "\n",
    "from sklearn.preprocessing import LabelEncoder\n",
    "from sklearn.tree import DecisionTreeClassifier\n",
    "from sklearn.linear_model import LinearRegression\n",
    "from sklearn.ensemble import RandomForestClassifier\n",
    "from sklearn.model_selection import train_test_split\n",
    "from sklearn.metrics import mean_absolute_error, mean_squared_error, accuracy_score, classification_report\n",
    "\n",
    "import warnings\n",
    "warnings.filterwarnings('ignore')"
   ]
  },
  {
   "cell_type": "code",
   "execution_count": 2,
   "metadata": {},
   "outputs": [
    {
     "data": {
      "text/plain": [
<<<<<<< HEAD:notebooks/Machine Learning.ipynb
       "['../Data/Building.csv',\n",
       " '../Data/Floor.csv',\n",
       " '../Data/Room.csv',\n",
       " '../Data/Entitlement Group.csv',\n",
       " '../Data/RoomBookingLog.csv',\n",
       " '../Data/Neighborhood.csv',\n",
       " '../Data/Rule.csv',\n",
       " '../Data/Desk_Booking_Log.csv',\n",
       " '../Data/Desk.csv']"
=======
       "['Data/Building.csv',\n",
       " 'Data/Floor.csv',\n",
       " 'Data/Room.csv',\n",
       " 'Data/Entitlement Group.csv',\n",
       " 'Data/RoomBookingLog.csv',\n",
       " 'Data/Neighborhood.csv',\n",
       " 'Data/Rule.csv',\n",
       " 'Data/Desk_Booking_Log.csv',\n",
       " 'Data/Desk.csv']"
>>>>>>> 08588897075efe6f8d31d28bc9c497567fc4bccb:notebooks/Machine Learning.ipynb
      ]
     },
     "execution_count": 2,
     "metadata": {},
     "output_type": "execute_result"
    }
   ],
   "source": [
    "# Specify the folder path where the files are located\n",
<<<<<<< HEAD:notebooks/Machine Learning.ipynb
    "folder_path = '../Data'\n",
=======
    "folder_path = 'Data'\n",
>>>>>>> 08588897075efe6f8d31d28bc9c497567fc4bccb:notebooks/Machine Learning.ipynb
    "\n",
    "# Create an empty list to store file names\n",
    "file_names = []\n",
    "\n",
    "# Use a loop to iterate over all files in the folder\n",
    "for file_name in glob.glob(os.path.join(folder_path, '*')):\n",
    "    # Append the full file path to the list\n",
    "    file_names.append(folder_path + '/' + os.path.basename(file_name))\n",
    "\n",
    "# Return the list of file names\n",
    "file_names"
   ]
  },
  {
   "cell_type": "code",
   "execution_count": 3,
   "metadata": {},
   "outputs": [],
   "source": [
    "# Read the data into seperate pandas dataframes\n",
    "Building_df = pd.read_csv(file_names[0])\n",
    "Floor_df = pd.read_csv(file_names[1])\n",
    "Room_df = pd.read_csv(file_names[2])\n",
    "Desk_df = pd.read_csv(file_names[8])\n",
    "\n",
    "Rule_df = pd.read_csv(file_names[6])\n",
    "Neighborhood_df = pd.read_csv(file_names[5])\n",
    "EntitlementGroup_df = pd.read_csv(file_names[3])\n",
    "\n",
    "RoomBookingLog_df = pd.read_csv(file_names[4])\n",
    "DeskBookingLog_df = pd.read_csv(file_names[7])"
   ]
  },
  {
   "cell_type": "code",
   "execution_count": 4,
   "metadata": {},
   "outputs": [],
   "source": [
    "# Create a copy of the RoomBookingLog_df DataFrame and assign it to 'data'\n",
    "data = RoomBookingLog_df.copy()\n",
    "\n",
    "# Drop unnecessary columns from 'data'\n",
    "data.drop(columns=['MEETING_NAME', 'BUILDING_NAME', 'ACCEPTED_COUNT', 'INVITED_COUNT', 'LAST_MODIFIED', 'TYPE', 'FLOOR_NAME', 'DATE_CREATED', 'ROOM_NAME'], inplace=True)\n",
    "\n",
    "# data = data.loc[data['IS_CANCELLED'] == False]\n",
    "\n",
    "# Convert 'START_TM' and 'END_TM' columns to datetime format\n",
    "data['START_TM'] = pd.to_datetime(data['START_TM'])\n",
    "data['END_TM'] = pd.to_datetime(data['END_TM'])\n"
   ]
  },
  {
   "cell_type": "code",
   "execution_count": 5,
   "metadata": {},
   "outputs": [
    {
     "data": {
      "text/html": [
       "<div>\n",
       "<style scoped>\n",
       "    .dataframe tbody tr th:only-of-type {\n",
       "        vertical-align: middle;\n",
       "    }\n",
       "\n",
       "    .dataframe tbody tr th {\n",
       "        vertical-align: top;\n",
       "    }\n",
       "\n",
       "    .dataframe thead th {\n",
       "        text-align: right;\n",
       "    }\n",
       "</style>\n",
       "<table border=\"1\" class=\"dataframe\">\n",
       "  <thead>\n",
       "    <tr style=\"text-align: right;\">\n",
       "      <th></th>\n",
       "      <th>ID</th>\n",
       "      <th>BUILDING_ID</th>\n",
       "      <th>ROOM_ID</th>\n",
       "      <th>FLOOR_ID</th>\n",
       "      <th>START_TM</th>\n",
       "      <th>MEETING_ID</th>\n",
       "      <th>Duration</th>\n",
       "    </tr>\n",
       "  </thead>\n",
       "  <tbody>\n",
       "    <tr>\n",
       "      <th>0</th>\n",
       "      <td>RB958</td>\n",
       "      <td>B033</td>\n",
       "      <td>R1869</td>\n",
       "      <td>F108</td>\n",
       "      <td>2023-08-21 01:30:00+00:00</td>\n",
       "      <td>M019</td>\n",
       "      <td>1</td>\n",
       "    </tr>\n",
       "    <tr>\n",
       "      <th>1</th>\n",
       "      <td>RB847</td>\n",
       "      <td>B060</td>\n",
       "      <td>R835</td>\n",
       "      <td>F087</td>\n",
       "      <td>2023-08-21 02:01:00+00:00</td>\n",
       "      <td>M044</td>\n",
       "      <td>2</td>\n",
       "    </tr>\n",
       "    <tr>\n",
       "      <th>2</th>\n",
       "      <td>RB848</td>\n",
       "      <td>B033</td>\n",
       "      <td>R1869</td>\n",
       "      <td>F108</td>\n",
       "      <td>2023-08-21 02:30:00+00:00</td>\n",
       "      <td>M019</td>\n",
       "      <td>3</td>\n",
       "    </tr>\n",
       "    <tr>\n",
       "      <th>3</th>\n",
       "      <td>RB689</td>\n",
       "      <td>B042</td>\n",
       "      <td>R1215</td>\n",
       "      <td>F210</td>\n",
       "      <td>2023-08-15 18:00:00+00:00</td>\n",
       "      <td>M032</td>\n",
       "      <td>1</td>\n",
       "    </tr>\n",
       "    <tr>\n",
       "      <th>4</th>\n",
       "      <td>RB39717</td>\n",
       "      <td>B029</td>\n",
       "      <td>R1985</td>\n",
       "      <td>F183</td>\n",
       "      <td>2023-09-12 20:30:00+00:00</td>\n",
       "      <td>M016</td>\n",
       "      <td>1</td>\n",
       "    </tr>\n",
       "  </tbody>\n",
       "</table>\n",
       "</div>"
      ],
      "text/plain": [
       "        ID BUILDING_ID ROOM_ID FLOOR_ID                  START_TM MEETING_ID  \\\n",
       "0    RB958        B033   R1869     F108 2023-08-21 01:30:00+00:00       M019   \n",
       "1    RB847        B060    R835     F087 2023-08-21 02:01:00+00:00       M044   \n",
       "2    RB848        B033   R1869     F108 2023-08-21 02:30:00+00:00       M019   \n",
       "3    RB689        B042   R1215     F210 2023-08-15 18:00:00+00:00       M032   \n",
       "4  RB39717        B029   R1985     F183 2023-09-12 20:30:00+00:00       M016   \n",
       "\n",
       "   Duration  \n",
       "0         1  \n",
       "1         2  \n",
       "2         3  \n",
       "3         1  \n",
       "4         1  "
      ]
     },
     "execution_count": 5,
     "metadata": {},
     "output_type": "execute_result"
    }
   ],
   "source": [
    "# Define a function to calculate duration\n",
    "def calculate_duration(row):\n",
    "    # If END_TM is on the next day, set it to midnight\n",
    "    if row['END_TM'].date() > row['START_TM'].date():\n",
    "        row['END_TM'] = row['END_TM'].replace(hour=23, minute=59, second=59)\n",
    "    # Calculate duration in 30-minute intervals\n",
    "    duration_seconds = (row['END_TM'] - row['START_TM']).total_seconds()\n",
    "    return int(np.ceil(duration_seconds / (30 * 60)))\n",
    "\n",
    "# Apply the function to calculate duration\n",
    "data['Duration'] = data.apply(calculate_duration, axis=1)\n",
    "data.drop(columns=['IS_CANCELLED', 'END_TM'], inplace=True)\n",
    "\n",
    "data.head()"
   ]
  },
  {
   "cell_type": "code",
   "execution_count": 6,
   "metadata": {},
   "outputs": [],
   "source": [
    "# Filter the 'data_cleaned' DataFrame to include rows with 'START_TM' years in [2021, 2022, 2023]\n",
    "data_cleaned = data[data['START_TM'].dt.year.isin([2021, 2022, 2023])]\n"
   ]
  },
  {
   "cell_type": "code",
   "execution_count": 7,
   "metadata": {},
   "outputs": [],
   "source": [
    "# handling outliers\n",
    "# keeing the data with duration less than 24 hours (1 day i.e, 48 30-minute intervals)\n",
    "data_cleaned = data_cleaned.loc[(data_cleaned['Duration']<=48) & (data_cleaned['Duration']>0)]"
   ]
  },
  {
   "cell_type": "markdown",
   "metadata": {},
   "source": [
    "- Feature Engineering"
   ]
  },
  {
   "cell_type": "code",
   "execution_count": 8,
   "metadata": {},
   "outputs": [],
   "source": [
    "data_cleaned['time_of_day'] = data_cleaned['START_TM'].dt.hour\n",
    "data_cleaned['day_of_week'] = data_cleaned['START_TM'].dt.dayofweek\n",
    "data_cleaned['month_of_year'] = data_cleaned['START_TM'].dt.month"
   ]
  },
  {
   "cell_type": "code",
   "execution_count": 9,
   "metadata": {},
   "outputs": [
    {
     "data": {
      "text/plain": [
       "Index(['ID', 'ROOM_ID', 'Duration', 'time_of_day', 'day_of_week',\n",
       "       'month_of_year', 'BUILDINGID', 'CAPACITY', 'LASTMODIFIED', 'AMENITIES'],\n",
       "      dtype='object')"
      ]
     },
     "execution_count": 9,
     "metadata": {},
     "output_type": "execute_result"
    }
   ],
   "source": [
    "data_cleaned.drop(columns=['START_TM', 'BUILDING_ID', 'FLOOR_ID', 'MEETING_ID'], inplace=True)\n",
    "\n",
    "data = pd.merge(data_cleaned, Room_df, left_on='ROOM_ID', right_on='ID', how='left')\n",
    "data.drop(columns=['ID_y', 'DATECREATED', 'MEETINGID', 'NAME', 'FLOORID', 'POINTS', 'BOOKABLE'], inplace=True)\n",
    "data.rename(columns={'ID_x': 'ID'}, inplace=True)\n",
    "\n",
    "data.columns"
   ]
  },
  {
   "cell_type": "code",
   "execution_count": 10,
   "metadata": {},
   "outputs": [
    {
     "name": "stdout",
     "output_type": "stream",
     "text": [
      "(72992, 10)\n"
     ]
    },
    {
     "data": {
      "text/plain": [
       "(66203, 10)"
      ]
     },
     "execution_count": 10,
     "metadata": {},
     "output_type": "execute_result"
    }
   ],
   "source": [
    "print(data.shape)\n",
    "data = data[(data['Duration'] >= data['Duration'].quantile(.05)) & (data['Duration'] <= data['Duration'].quantile(.95))]\n",
    "data = data[data['CAPACITY'] <= data['CAPACITY'].quantile(.95)]\n",
    "data.dropna(inplace=True)\n",
    "data.shape"
   ]
  },
  {
   "cell_type": "markdown",
   "metadata": {},
   "source": [
    "- More Feature Engineering"
   ]
  },
  {
   "cell_type": "code",
   "execution_count": 11,
   "metadata": {},
   "outputs": [],
   "source": [
    "# Encode categorical variables\n",
    "count_encoded = data['AMENITIES'].value_counts().to_dict()\n",
    "data['AMENITIES_en'] =data['AMENITIES'].map(count_encoded)\n",
    "\n",
    "data['CAPACITY'] = data['CAPACITY'].astype(int)\n",
    "data['time_of_day'] = data['time_of_day'].astype(int)\n",
    "data['day_of_week'] = data['day_of_week'].astype(int)\n",
    "data['month_of_year'] = data['month_of_year'].astype(int)"
   ]
  },
  {
   "cell_type": "code",
   "execution_count": 12,
   "metadata": {},
   "outputs": [
    {
     "name": "stdout",
     "output_type": "stream",
     "text": [
      "Building IDs accounting for 90% of the value counts: 11\n"
     ]
    }
   ],
   "source": [
    "# Calculate the BuildingID counts\n",
    "building_counts = data['BUILDINGID'].value_counts().sort_values(ascending=False)\n",
    "\n",
    "# Sort the counts in descending order\n",
    "sorted_building_counts = building_counts.sort_values(ascending=False)\n",
    "\n",
    "# Calculate the cumulative sum of the counts\n",
    "cumulative_counts = sorted_building_counts.cumsum()\n",
    "\n",
    "# Find the threshold for 90% of the total counts\n",
    "total_counts = cumulative_counts.iloc[-1]\n",
    "threshold = 0.8 * total_counts\n",
    "\n",
    "# Filter the building IDs that account for 90% of the counts\n",
    "selected_building_ids = cumulative_counts[cumulative_counts <= threshold].index\n",
    "\n",
    "print(\"Building IDs accounting for 90% of the value counts:\", len(selected_building_ids))"
   ]
  },
  {
   "cell_type": "code",
   "execution_count": 13,
   "metadata": {},
   "outputs": [
    {
     "data": {
      "text/html": [
       "<div>\n",
       "<style scoped>\n",
       "    .dataframe tbody tr th:only-of-type {\n",
       "        vertical-align: middle;\n",
       "    }\n",
       "\n",
       "    .dataframe tbody tr th {\n",
       "        vertical-align: top;\n",
       "    }\n",
       "\n",
       "    .dataframe thead th {\n",
       "        text-align: right;\n",
       "    }\n",
       "</style>\n",
       "<table border=\"1\" class=\"dataframe\">\n",
       "  <thead>\n",
       "    <tr style=\"text-align: right;\">\n",
       "      <th></th>\n",
       "      <th>ID</th>\n",
       "      <th>ROOM_ID</th>\n",
       "      <th>Duration</th>\n",
       "      <th>time_of_day</th>\n",
       "      <th>day_of_week</th>\n",
       "      <th>month_of_year</th>\n",
       "      <th>CAPACITY</th>\n",
       "      <th>LASTMODIFIED</th>\n",
       "      <th>AMENITIES</th>\n",
       "      <th>AMENITIES_en</th>\n",
       "      <th>...</th>\n",
       "      <th>BUILDINGID_B030</th>\n",
       "      <th>BUILDINGID_B031</th>\n",
       "      <th>BUILDINGID_B033</th>\n",
       "      <th>BUILDINGID_B039</th>\n",
       "      <th>BUILDINGID_B042</th>\n",
       "      <th>BUILDINGID_B044</th>\n",
       "      <th>BUILDINGID_B047</th>\n",
       "      <th>BUILDINGID_B060</th>\n",
       "      <th>BUILDINGID_B072</th>\n",
       "      <th>BUILDINGID_Other</th>\n",
       "    </tr>\n",
       "  </thead>\n",
       "  <tbody>\n",
       "    <tr>\n",
       "      <th>0</th>\n",
       "      <td>RB958</td>\n",
       "      <td>R1869</td>\n",
       "      <td>1</td>\n",
       "      <td>1</td>\n",
       "      <td>0</td>\n",
       "      <td>8</td>\n",
       "      <td>4</td>\n",
       "      <td>2023-04-28T18:27:45.896632Z</td>\n",
       "      <td>[\"HDMI Connection\", \"55 inch Displays\", \"3-Way...</td>\n",
       "      <td>3398</td>\n",
       "      <td>...</td>\n",
       "      <td>0</td>\n",
       "      <td>0</td>\n",
       "      <td>1</td>\n",
       "      <td>0</td>\n",
       "      <td>0</td>\n",
       "      <td>0</td>\n",
       "      <td>0</td>\n",
       "      <td>0</td>\n",
       "      <td>0</td>\n",
       "      <td>0</td>\n",
       "    </tr>\n",
       "    <tr>\n",
       "      <th>1</th>\n",
       "      <td>RB847</td>\n",
       "      <td>R835</td>\n",
       "      <td>2</td>\n",
       "      <td>2</td>\n",
       "      <td>0</td>\n",
       "      <td>8</td>\n",
       "      <td>4</td>\n",
       "      <td>2022-10-28T12:43:39.206096Z</td>\n",
       "      <td>[]</td>\n",
       "      <td>4423</td>\n",
       "      <td>...</td>\n",
       "      <td>0</td>\n",
       "      <td>0</td>\n",
       "      <td>0</td>\n",
       "      <td>0</td>\n",
       "      <td>0</td>\n",
       "      <td>0</td>\n",
       "      <td>0</td>\n",
       "      <td>1</td>\n",
       "      <td>0</td>\n",
       "      <td>0</td>\n",
       "    </tr>\n",
       "    <tr>\n",
       "      <th>2</th>\n",
       "      <td>RB848</td>\n",
       "      <td>R1869</td>\n",
       "      <td>3</td>\n",
       "      <td>2</td>\n",
       "      <td>0</td>\n",
       "      <td>8</td>\n",
       "      <td>4</td>\n",
       "      <td>2023-04-28T18:27:45.896632Z</td>\n",
       "      <td>[\"HDMI Connection\", \"55 inch Displays\", \"3-Way...</td>\n",
       "      <td>3398</td>\n",
       "      <td>...</td>\n",
       "      <td>0</td>\n",
       "      <td>0</td>\n",
       "      <td>1</td>\n",
       "      <td>0</td>\n",
       "      <td>0</td>\n",
       "      <td>0</td>\n",
       "      <td>0</td>\n",
       "      <td>0</td>\n",
       "      <td>0</td>\n",
       "      <td>0</td>\n",
       "    </tr>\n",
       "    <tr>\n",
       "      <th>3</th>\n",
       "      <td>RB689</td>\n",
       "      <td>R1215</td>\n",
       "      <td>1</td>\n",
       "      <td>18</td>\n",
       "      <td>1</td>\n",
       "      <td>8</td>\n",
       "      <td>4</td>\n",
       "      <td>2021-10-26T15:13:03.464832Z</td>\n",
       "      <td>[\"Video Conferencing\", \"Wireless Content Shari...</td>\n",
       "      <td>8820</td>\n",
       "      <td>...</td>\n",
       "      <td>0</td>\n",
       "      <td>0</td>\n",
       "      <td>0</td>\n",
       "      <td>0</td>\n",
       "      <td>1</td>\n",
       "      <td>0</td>\n",
       "      <td>0</td>\n",
       "      <td>0</td>\n",
       "      <td>0</td>\n",
       "      <td>0</td>\n",
       "    </tr>\n",
       "    <tr>\n",
       "      <th>4</th>\n",
       "      <td>RB39717</td>\n",
       "      <td>R1985</td>\n",
       "      <td>1</td>\n",
       "      <td>20</td>\n",
       "      <td>1</td>\n",
       "      <td>9</td>\n",
       "      <td>10</td>\n",
       "      <td>2023-03-21T07:20:45.473848Z</td>\n",
       "      <td>[\"85\\\" 4K Display\", \"Video Conferencing\", \"Wir...</td>\n",
       "      <td>1817</td>\n",
       "      <td>...</td>\n",
       "      <td>0</td>\n",
       "      <td>0</td>\n",
       "      <td>0</td>\n",
       "      <td>0</td>\n",
       "      <td>0</td>\n",
       "      <td>0</td>\n",
       "      <td>0</td>\n",
       "      <td>0</td>\n",
       "      <td>0</td>\n",
       "      <td>0</td>\n",
       "    </tr>\n",
       "  </tbody>\n",
       "</table>\n",
       "<p>5 rows × 21 columns</p>\n",
       "</div>"
      ],
      "text/plain": [
       "        ID ROOM_ID  Duration  time_of_day  day_of_week  month_of_year  \\\n",
       "0    RB958   R1869         1            1            0              8   \n",
       "1    RB847    R835         2            2            0              8   \n",
       "2    RB848   R1869         3            2            0              8   \n",
       "3    RB689   R1215         1           18            1              8   \n",
       "4  RB39717   R1985         1           20            1              9   \n",
       "\n",
       "   CAPACITY                 LASTMODIFIED  \\\n",
       "0         4  2023-04-28T18:27:45.896632Z   \n",
       "1         4  2022-10-28T12:43:39.206096Z   \n",
       "2         4  2023-04-28T18:27:45.896632Z   \n",
       "3         4  2021-10-26T15:13:03.464832Z   \n",
       "4        10  2023-03-21T07:20:45.473848Z   \n",
       "\n",
       "                                           AMENITIES  AMENITIES_en  ...  \\\n",
       "0  [\"HDMI Connection\", \"55 inch Displays\", \"3-Way...          3398  ...   \n",
       "1                                                 []          4423  ...   \n",
       "2  [\"HDMI Connection\", \"55 inch Displays\", \"3-Way...          3398  ...   \n",
       "3  [\"Video Conferencing\", \"Wireless Content Shari...          8820  ...   \n",
       "4  [\"85\\\" 4K Display\", \"Video Conferencing\", \"Wir...          1817  ...   \n",
       "\n",
       "   BUILDINGID_B030  BUILDINGID_B031  BUILDINGID_B033  BUILDINGID_B039  \\\n",
       "0                0                0                1                0   \n",
       "1                0                0                0                0   \n",
       "2                0                0                1                0   \n",
       "3                0                0                0                0   \n",
       "4                0                0                0                0   \n",
       "\n",
       "   BUILDINGID_B042  BUILDINGID_B044  BUILDINGID_B047  BUILDINGID_B060  \\\n",
       "0                0                0                0                0   \n",
       "1                0                0                0                1   \n",
       "2                0                0                0                0   \n",
       "3                1                0                0                0   \n",
       "4                0                0                0                0   \n",
       "\n",
       "   BUILDINGID_B072  BUILDINGID_Other  \n",
       "0                0                 0  \n",
       "1                0                 0  \n",
       "2                0                 0  \n",
       "3                0                 0  \n",
       "4                0                 0  \n",
       "\n",
       "[5 rows x 21 columns]"
      ]
     },
     "execution_count": 13,
     "metadata": {},
     "output_type": "execute_result"
    }
   ],
   "source": [
    "data['BUILDINGID'] = data['BUILDINGID'].apply(lambda x: x if x in selected_building_ids else 'Other')\n",
    "\n",
    "#o ne hot encoding BuildingID\n",
    "data = pd.get_dummies(data, columns=['BUILDINGID'], drop_first=True)\n",
    "data.head()"
   ]
  },
  {
   "cell_type": "code",
   "execution_count": 14,
   "metadata": {},
   "outputs": [
    {
     "data": {
      "text/plain": [
       "Index(['ID', 'ROOM_ID', 'Duration', 'time_of_day', 'day_of_week',\n",
       "       'month_of_year', 'CAPACITY', 'LASTMODIFIED', 'AMENITIES',\n",
       "       'AMENITIES_en', 'BUILDINGID_B029', 'BUILDINGID_B030', 'BUILDINGID_B031',\n",
       "       'BUILDINGID_B033', 'BUILDINGID_B039', 'BUILDINGID_B042',\n",
       "       'BUILDINGID_B044', 'BUILDINGID_B047', 'BUILDINGID_B060',\n",
       "       'BUILDINGID_B072', 'BUILDINGID_Other'],\n",
       "      dtype='object')"
      ]
     },
     "execution_count": 14,
     "metadata": {},
     "output_type": "execute_result"
    }
   ],
   "source": [
    "data.columns"
   ]
  },
  {
   "cell_type": "markdown",
   "metadata": {},
   "source": [
    "- Feature Selection"
   ]
  },
  {
   "cell_type": "code",
   "execution_count": 15,
   "metadata": {},
   "outputs": [],
   "source": [
    "data['Duration'] = data['Duration'].apply(lambda x: 'z' if x <= 3 else 'A' if x <= 8 else 'B')"
   ]
  },
  {
   "cell_type": "code",
   "execution_count": 16,
   "metadata": {},
   "outputs": [
    {
     "data": {
      "text/plain": [
       "((52962, 16), (13241, 16), (52962,), (13241,))"
      ]
     },
     "execution_count": 16,
     "metadata": {},
     "output_type": "execute_result"
    }
   ],
   "source": [
    "# Split the data into training and testing sets\n",
    "X = data[['AMENITIES_en', 'time_of_day', 'day_of_week','month_of_year', 'CAPACITY',\n",
    "       'BUILDINGID_B029', 'BUILDINGID_B030', 'BUILDINGID_B031', 'BUILDINGID_B033', 'BUILDINGID_B039', 'BUILDINGID_B042', 'BUILDINGID_B044', 'BUILDINGID_B047', 'BUILDINGID_B060', 'BUILDINGID_B072',\n",
    "       'BUILDINGID_Other']]\n",
    "y = data['Duration']\n",
    "\n",
    "X_train, X_test, y_train, y_test = train_test_split(X, y, test_size=0.2, random_state=42)\n",
    "\n",
    "X_train.shape, X_test.shape, y_train.shape, y_test.shape"
   ]
  },
  {
   "cell_type": "code",
   "execution_count": 17,
   "metadata": {},
   "outputs": [
    {
     "name": "stdout",
     "output_type": "stream",
     "text": [
      "Accuracy: 0.8485008685144626\n",
      "              precision    recall  f1-score   support\n",
      "\n",
      "           A       0.31      0.26      0.28      1443\n",
      "           B       0.20      0.19      0.19       104\n",
      "           z       0.91      0.93      0.92     11694\n",
      "\n",
      "    accuracy                           0.85     13241\n",
      "   macro avg       0.47      0.46      0.46     13241\n",
      "weighted avg       0.84      0.85      0.84     13241\n",
      "\n"
     ]
    }
   ],
   "source": [
    "# Initialize the Decision Tree model\n",
    "model = DecisionTreeClassifier(random_state=69)\n",
    "\n",
    "# Fit the model to the training data\n",
    "model.fit(X_train, y_train)\n",
    "\n",
    "# Make predictions on the test set\n",
    "y_pred = model.predict(X_test)\n",
    "\n",
    "# Calculate the accuracy score\n",
    "accuracy = accuracy_score(y_test, y_pred)\n",
    "print(\"Accuracy:\", accuracy)\n",
    "\n",
    "# Generate a classification report\n",
    "report = classification_report(y_test, y_pred)\n",
    "print(report)"
   ]
  },
  {
   "cell_type": "code",
   "execution_count": 18,
   "metadata": {},
   "outputs": [
    {
     "data": {
      "text/html": [
       "<style>#sk-container-id-1 {color: black;background-color: white;}#sk-container-id-1 pre{padding: 0;}#sk-container-id-1 div.sk-toggleable {background-color: white;}#sk-container-id-1 label.sk-toggleable__label {cursor: pointer;display: block;width: 100%;margin-bottom: 0;padding: 0.3em;box-sizing: border-box;text-align: center;}#sk-container-id-1 label.sk-toggleable__label-arrow:before {content: \"▸\";float: left;margin-right: 0.25em;color: #696969;}#sk-container-id-1 label.sk-toggleable__label-arrow:hover:before {color: black;}#sk-container-id-1 div.sk-estimator:hover label.sk-toggleable__label-arrow:before {color: black;}#sk-container-id-1 div.sk-toggleable__content {max-height: 0;max-width: 0;overflow: hidden;text-align: left;background-color: #f0f8ff;}#sk-container-id-1 div.sk-toggleable__content pre {margin: 0.2em;color: black;border-radius: 0.25em;background-color: #f0f8ff;}#sk-container-id-1 input.sk-toggleable__control:checked~div.sk-toggleable__content {max-height: 200px;max-width: 100%;overflow: auto;}#sk-container-id-1 input.sk-toggleable__control:checked~label.sk-toggleable__label-arrow:before {content: \"▾\";}#sk-container-id-1 div.sk-estimator input.sk-toggleable__control:checked~label.sk-toggleable__label {background-color: #d4ebff;}#sk-container-id-1 div.sk-label input.sk-toggleable__control:checked~label.sk-toggleable__label {background-color: #d4ebff;}#sk-container-id-1 input.sk-hidden--visually {border: 0;clip: rect(1px 1px 1px 1px);clip: rect(1px, 1px, 1px, 1px);height: 1px;margin: -1px;overflow: hidden;padding: 0;position: absolute;width: 1px;}#sk-container-id-1 div.sk-estimator {font-family: monospace;background-color: #f0f8ff;border: 1px dotted black;border-radius: 0.25em;box-sizing: border-box;margin-bottom: 0.5em;}#sk-container-id-1 div.sk-estimator:hover {background-color: #d4ebff;}#sk-container-id-1 div.sk-parallel-item::after {content: \"\";width: 100%;border-bottom: 1px solid gray;flex-grow: 1;}#sk-container-id-1 div.sk-label:hover label.sk-toggleable__label {background-color: #d4ebff;}#sk-container-id-1 div.sk-serial::before {content: \"\";position: absolute;border-left: 1px solid gray;box-sizing: border-box;top: 0;bottom: 0;left: 50%;z-index: 0;}#sk-container-id-1 div.sk-serial {display: flex;flex-direction: column;align-items: center;background-color: white;padding-right: 0.2em;padding-left: 0.2em;position: relative;}#sk-container-id-1 div.sk-item {position: relative;z-index: 1;}#sk-container-id-1 div.sk-parallel {display: flex;align-items: stretch;justify-content: center;background-color: white;position: relative;}#sk-container-id-1 div.sk-item::before, #sk-container-id-1 div.sk-parallel-item::before {content: \"\";position: absolute;border-left: 1px solid gray;box-sizing: border-box;top: 0;bottom: 0;left: 50%;z-index: -1;}#sk-container-id-1 div.sk-parallel-item {display: flex;flex-direction: column;z-index: 1;position: relative;background-color: white;}#sk-container-id-1 div.sk-parallel-item:first-child::after {align-self: flex-end;width: 50%;}#sk-container-id-1 div.sk-parallel-item:last-child::after {align-self: flex-start;width: 50%;}#sk-container-id-1 div.sk-parallel-item:only-child::after {width: 0;}#sk-container-id-1 div.sk-dashed-wrapped {border: 1px dashed gray;margin: 0 0.4em 0.5em 0.4em;box-sizing: border-box;padding-bottom: 0.4em;background-color: white;}#sk-container-id-1 div.sk-label label {font-family: monospace;font-weight: bold;display: inline-block;line-height: 1.2em;}#sk-container-id-1 div.sk-label-container {text-align: center;}#sk-container-id-1 div.sk-container {/* jupyter's `normalize.less` sets `[hidden] { display: none; }` but bootstrap.min.css set `[hidden] { display: none !important; }` so we also need the `!important` here to be able to override the default hidden behavior on the sphinx rendered scikit-learn.org. See: https://github.com/scikit-learn/scikit-learn/issues/21755 */display: inline-block !important;position: relative;}#sk-container-id-1 div.sk-text-repr-fallback {display: none;}</style><div id=\"sk-container-id-1\" class=\"sk-top-container\"><div class=\"sk-text-repr-fallback\"><pre>RandomForestClassifier(criterion=&#x27;entropy&#x27;, random_state=69)</pre><b>In a Jupyter environment, please rerun this cell to show the HTML representation or trust the notebook. <br />On GitHub, the HTML representation is unable to render, please try loading this page with nbviewer.org.</b></div><div class=\"sk-container\" hidden><div class=\"sk-item\"><div class=\"sk-estimator sk-toggleable\"><input class=\"sk-toggleable__control sk-hidden--visually\" id=\"sk-estimator-id-1\" type=\"checkbox\" checked><label for=\"sk-estimator-id-1\" class=\"sk-toggleable__label sk-toggleable__label-arrow\">RandomForestClassifier</label><div class=\"sk-toggleable__content\"><pre>RandomForestClassifier(criterion=&#x27;entropy&#x27;, random_state=69)</pre></div></div></div></div></div>"
      ],
      "text/plain": [
       "RandomForestClassifier(criterion='entropy', random_state=69)"
      ]
     },
     "execution_count": 18,
     "metadata": {},
     "output_type": "execute_result"
    }
   ],
   "source": [
    "# Initialize the model\n",
    "model = RandomForestClassifier(n_estimators=100, random_state=69, criterion='entropy')\n",
    "\n",
    "# Fit the model to the training data\n",
    "model.fit(X_train, y_train)"
   ]
  },
  {
   "cell_type": "code",
   "execution_count": 19,
   "metadata": {},
   "outputs": [
    {
     "name": "stdout",
     "output_type": "stream",
     "text": [
      "Accuracy: 0.88\n",
      "              precision    recall  f1-score   support\n",
      "\n",
      "           A       0.41      0.18      0.25      1443\n",
      "           B       0.28      0.13      0.18       104\n",
      "           z       0.90      0.97      0.93     11694\n",
      "\n",
      "    accuracy                           0.88     13241\n",
      "   macro avg       0.53      0.43      0.45     13241\n",
      "weighted avg       0.84      0.88      0.85     13241\n",
      "\n"
     ]
    }
   ],
   "source": [
    "# Make predictions on the test set\n",
    "y_pred = model.predict(X_test)\n",
    "\n",
    "# Calculate accuracy\n",
    "accuracy = accuracy_score(y_test, y_pred)\n",
    "print(f'Accuracy: {accuracy:.2f}')\n",
    "\n",
    "# Generate a classification report\n",
    "report = classification_report(y_test, y_pred)\n",
    "print(report)"
   ]
  },
  {
   "cell_type": "code",
   "execution_count": 20,
   "metadata": {},
   "outputs": [],
   "source": [
    "#Saving the model\n",
    "rf_model = model\n",
    "\n",
    "# Pickle the model to a file\n",
<<<<<<< HEAD:notebooks/Machine Learning.ipynb
    "with open('../random_forest_model.pkl', 'wb') as model_file:\n",
=======
    "with open('random_forest_model.pkl', 'wb') as model_file:\n",
>>>>>>> 08588897075efe6f8d31d28bc9c497567fc4bccb:notebooks/Machine Learning.ipynb
    "    pickle.dump(rf_model, model_file)"
   ]
  },
  {
   "cell_type": "code",
   "execution_count": null,
   "metadata": {},
   "outputs": [],
   "source": []
  }
 ],
 "metadata": {
  "kernelspec": {
   "display_name": "base",
   "language": "python",
   "name": "python3"
  },
  "language_info": {
   "codemirror_mode": {
    "name": "ipython",
    "version": 3
   },
   "file_extension": ".py",
   "mimetype": "text/x-python",
   "name": "python",
   "nbconvert_exporter": "python",
   "pygments_lexer": "ipython3",
   "version": "3.8.8"
  },
  "orig_nbformat": 4
 },
 "nbformat": 4,
 "nbformat_minor": 2
}
